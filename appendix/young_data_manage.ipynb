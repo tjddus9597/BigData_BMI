{
 "cells": [
  {
   "cell_type": "code",
   "execution_count": 100,
   "metadata": {
    "collapsed": true
   },
   "outputs": [],
   "source": [
    "%matplotlib inline\n",
    "import pandas as pd\n",
    "import matplotlib.pyplot as plt\n",
    "import numpy as np"
   ]
  },
  {
   "cell_type": "code",
   "execution_count": 101,
   "metadata": {
    "scrolled": true
   },
   "outputs": [],
   "source": [
    "###data 읽기\n",
    "young = pd.read_csv('./youngpeoplesurvey/responses.csv')\n",
    "young.head(5);"
   ]
  },
  {
   "cell_type": "code",
   "execution_count": 102,
   "metadata": {},
   "outputs": [
    {
     "name": "stdout",
     "output_type": "stream",
     "text": [
      "True\n",
      "1010\n"
     ]
    }
   ],
   "source": [
    "###null값이 포함된 데이터\n",
    "youngwhnull = young[young[['Weight','Height']].isnull().any(axis=1)]\n",
    "len(youngwhnull.index);\n",
    "youngwhnull.head();\n",
    "###weight와 height의 null값을 제외한 데이터\n",
    "youngwh = young[young[['Weight','Height']].notnull().all(axis=1)]\n",
    "youngwh.head();\n",
    "len(youngwh.index);\n",
    "###총데이터 : 1010 확인\n",
    "print(len(young.index) == len(youngwh) + len(youngwhnull))\n",
    "print(len(young))"
   ]
  },
  {
   "cell_type": "code",
   "execution_count": 103,
   "metadata": {},
   "outputs": [],
   "source": [
    "###bmi 항목 추가\n",
    "young = youngwh\n",
    "young['bmi'] = young['Weight']/((young['Height']/100.0)**2)\n",
    "young.head();"
   ]
  },
  {
   "cell_type": "code",
   "execution_count": 104,
   "metadata": {},
   "outputs": [
    {
     "name": "stdout",
     "output_type": "stream",
     "text": [
      "965\n"
     ]
    }
   ],
   "source": [
    "###outlier 제거(height, weight thresholding)\n",
    "young = young.loc[(young['Height']>142.42) & (young['Height']<195.58) & (young['Weight']>44.45) & (young['Weight']<145)]\n",
    "print(len(young.index));"
   ]
  },
  {
   "cell_type": "code",
   "execution_count": 105,
   "metadata": {},
   "outputs": [
    {
     "name": "stdout",
     "output_type": "stream",
     "text": [
      "0\n"
     ]
    },
    {
     "name": "stderr",
     "output_type": "stream",
     "text": [
      "C:\\Users\\DGIST-VL\\Anaconda2\\envs\\py3\\lib\\site-packages\\pandas\\core\\indexing.py:517: SettingWithCopyWarning: \n",
      "A value is trying to be set on a copy of a slice from a DataFrame.\n",
      "Try using .loc[row_indexer,col_indexer] = value instead\n",
      "\n",
      "See the caveats in the documentation: http://pandas.pydata.org/pandas-docs/stable/indexing.html#indexing-view-versus-copy\n",
      "  self.obj[item] = s\n"
     ]
    }
   ],
   "source": [
    "###outlier 제거(number of siblings & only child 모순 1)\n",
    "mask = (young['Number of siblings'] == 0) & (young['Only child'] == 'no')\n",
    "col1 = 'Number of siblings'\n",
    "col2 = 'Only child'\n",
    "young.loc[[298, 320, 626, 925, 954]];\n",
    "young.loc[mask.index[mask == True], col1] = np.nan\n",
    "young.loc[mask.index[mask == True], col2] = np.nan\n",
    "print(len(young.loc[(young['Number of siblings'] == 0) & (young['Only child'] == 'no')]))\n",
    "young.loc[[298, 320, 626, 925, 954]];"
   ]
  },
  {
   "cell_type": "code",
   "execution_count": 106,
   "metadata": {},
   "outputs": [
    {
     "name": "stdout",
     "output_type": "stream",
     "text": [
      "0\n"
     ]
    },
    {
     "name": "stderr",
     "output_type": "stream",
     "text": [
      "C:\\Users\\DGIST-VL\\Anaconda2\\envs\\py3\\lib\\site-packages\\pandas\\core\\indexing.py:517: SettingWithCopyWarning: \n",
      "A value is trying to be set on a copy of a slice from a DataFrame.\n",
      "Try using .loc[row_indexer,col_indexer] = value instead\n",
      "\n",
      "See the caveats in the documentation: http://pandas.pydata.org/pandas-docs/stable/indexing.html#indexing-view-versus-copy\n",
      "  self.obj[item] = s\n"
     ]
    }
   ],
   "source": [
    "###outlier 제거(number of siblings & only child 모순 2)\n",
    "mask2 = (young['Number of siblings'] != 0) & (young['Only child'] == 'yes')\n",
    "young.loc[mask2.index[mask2 == True], 'Number of siblings'] = np.nan\n",
    "young.loc[mask2.index[mask2 == True], 'Only child'] = np.nan\n",
    "print(len(young.loc[(young['Number of siblings'] != 0) & (young['Only child'] == 'yes')]))"
   ]
  },
  {
   "cell_type": "code",
   "execution_count": 107,
   "metadata": {},
   "outputs": [
    {
     "name": "stdout",
     "output_type": "stream",
     "text": [
      "Index(['Smoking', 'Alcohol', 'Punctuality', 'Lying', 'Internet usage',\n",
      "       'Gender', 'Left - right handed', 'Education', 'Only child',\n",
      "       'Village - town', 'House - block of flats'],\n",
      "      dtype='object')\n"
     ]
    },
    {
     "name": "stderr",
     "output_type": "stream",
     "text": [
      "C:\\Users\\DGIST-VL\\Anaconda2\\envs\\py3\\lib\\site-packages\\ipykernel_launcher.py:6: SettingWithCopyWarning: \n",
      "A value is trying to be set on a copy of a slice from a DataFrame.\n",
      "Try using .loc[row_indexer,col_indexer] = value instead\n",
      "\n",
      "See the caveats in the documentation: http://pandas.pydata.org/pandas-docs/stable/indexing.html#indexing-view-versus-copy\n",
      "  \n"
     ]
    },
    {
     "name": "stdout",
     "output_type": "stream",
     "text": [
      "{'Smoking': ['never smoked', 'tried smoking', 'former smoker', 'current smoker'], 'Alcohol': ['never', 'social drinker', 'drink a lot'], 'Punctuality': ['i am often early', 'i am always on time', 'i am often running late'], 'Lying': ['never', 'only to avoid hurting someone', 'sometimes', 'everytime it suits me'], 'Internet usage': ['no time at all', 'less than an hour a day', 'few hours a day', 'most of the day'], 'Gender': ['female', 'male'], 'Left - right handed': ['left handed', 'right handed'], 'Education': ['currently a primary school pupil', 'primary school', 'secondary school', 'college/bachelor degree', 'masters degree', 'doctorate degree'], 'Only child': ['no', 'yes'], 'Village - town': ['city', 'village'], 'House - block of flats': ['house/bungalow', 'block of flats']}\n"
     ]
    }
   ],
   "source": [
    "###categoical data를 1,2,3,4,5로 변경\n",
    "####타입 변경\n",
    "cat_columns = young.select_dtypes(['object']).columns\n",
    "print(cat_columns);\n",
    "for col in cat_columns:\n",
    "    young[col] = young[col].astype(dtype='category')\n",
    "####category order 변수 생성\n",
    "sorter_dic = {\"Smoking\" : \"Never smoked - Tried smoking - Former smoker - Current smoker\",\n",
    "             \"Alcohol\" : \"Never - Social drinker - Drink a lot\",\n",
    "             \"Punctuality\" : \"I am often early - I am always on time - I am often running late\",\n",
    "             \"Lying\" : \"Never - Only to avoid hurting someone - Sometimes - Everytime it suits me\",\n",
    "             \"Internet usage\" : \"No time at all - Less than an hour a day - Few hours a day - Most of the day\",\n",
    "             \"Gender\" : \"Female - Male\",\n",
    "             \"Left - right handed\" : \"Left handed - Right handed\",\n",
    "             \"Education\" : \"Currently a Primary school pupil - Primary school - Secondary school - College/Bachelor degree - Masters degree - doctorate degree\",\n",
    "             \"Only child\" : \"No - Yes\",\n",
    "             \"Village - town\" : \"City - village\",\n",
    "             \"House - block of flats\" : \"house/bungalow - block of flats\"     \n",
    "             }\n",
    "for key, value in sorter_dic.items():\n",
    "    sorter_dic[key] = value.lower().split(' - ')\n",
    "print(sorter_dic)"
   ]
  },
  {
   "cell_type": "code",
   "execution_count": 108,
   "metadata": {},
   "outputs": [
    {
     "name": "stderr",
     "output_type": "stream",
     "text": [
      "C:\\Users\\DGIST-VL\\Anaconda2\\envs\\py3\\lib\\site-packages\\ipykernel_launcher.py:3: SettingWithCopyWarning: \n",
      "A value is trying to be set on a copy of a slice from a DataFrame.\n",
      "Try using .loc[row_indexer,col_indexer] = value instead\n",
      "\n",
      "See the caveats in the documentation: http://pandas.pydata.org/pandas-docs/stable/indexing.html#indexing-view-versus-copy\n",
      "  This is separate from the ipykernel package so we can avoid doing imports until\n",
      "C:\\Users\\DGIST-VL\\Anaconda2\\envs\\py3\\lib\\site-packages\\ipykernel_launcher.py:5: SettingWithCopyWarning: \n",
      "A value is trying to be set on a copy of a slice from a DataFrame.\n",
      "Try using .loc[row_indexer,col_indexer] = value instead\n",
      "\n",
      "See the caveats in the documentation: http://pandas.pydata.org/pandas-docs/stable/indexing.html#indexing-view-versus-copy\n",
      "  \"\"\"\n",
      "C:\\Users\\DGIST-VL\\Anaconda2\\envs\\py3\\lib\\site-packages\\pandas\\core\\frame.py:2450: SettingWithCopyWarning: \n",
      "A value is trying to be set on a copy of a slice from a DataFrame.\n",
      "Try using .loc[row_indexer,col_indexer] = value instead\n",
      "\n",
      "See the caveats in the documentation: http://pandas.pydata.org/pandas-docs/stable/indexing.html#indexing-view-versus-copy\n",
      "  self[k1] = value[k2]\n"
     ]
    }
   ],
   "source": [
    "####Category order에 맞게 new value 부여\n",
    "for col in cat_columns:\n",
    "    young[col] = young[col].cat.reorder_categories(sorter_dic[col])\n",
    "for col in cat_columns:\n",
    "    young[col] = young[col].cat.codes\n",
    "####1부터 시작\n",
    "young[cat_columns] = young[cat_columns] + 1"
   ]
  },
  {
   "cell_type": "code",
   "execution_count": 109,
   "metadata": {
    "scrolled": true
   },
   "outputs": [
    {
     "name": "stdout",
     "output_type": "stream",
     "text": [
      "108\n",
      "723\n",
      "122\n",
      "12\n",
      "965\n"
     ]
    },
    {
     "name": "stderr",
     "output_type": "stream",
     "text": [
      "C:\\Users\\DGIST-VL\\Anaconda2\\envs\\py3\\lib\\site-packages\\ipykernel_launcher.py:2: SettingWithCopyWarning: \n",
      "A value is trying to be set on a copy of a slice from a DataFrame.\n",
      "Try using .loc[row_indexer,col_indexer] = value instead\n",
      "\n",
      "See the caveats in the documentation: http://pandas.pydata.org/pandas-docs/stable/indexing.html#indexing-view-versus-copy\n",
      "  \n",
      "C:\\Users\\DGIST-VL\\Anaconda2\\envs\\py3\\lib\\site-packages\\pandas\\core\\indexing.py:517: SettingWithCopyWarning: \n",
      "A value is trying to be set on a copy of a slice from a DataFrame.\n",
      "Try using .loc[row_indexer,col_indexer] = value instead\n",
      "\n",
      "See the caveats in the documentation: http://pandas.pydata.org/pandas-docs/stable/indexing.html#indexing-view-versus-copy\n",
      "  self.obj[item] = s\n"
     ]
    }
   ],
   "source": [
    "###Bmi_class 추가\n",
    "young[\"bmi_class\"]=1\n",
    "young.loc[((young[\"bmi\"]>18.5) & (young[\"bmi\"]<25)),\"bmi_class\"]=2\n",
    "young.loc[((young[\"bmi\"]>25) & (young[\"bmi\"]<30)),\"bmi_class\"]=3\n",
    "young.loc[(young[\"bmi\"]>30),\"bmi_class\"]=4\n",
    "### 갯수 확인\n",
    "print(len(young.loc[young[\"bmi_class\"]==1]))\n",
    "print(len(young.loc[young[\"bmi_class\"]==2]))\n",
    "print(len(young.loc[young[\"bmi_class\"]==3]))\n",
    "print(len(young.loc[young[\"bmi_class\"]==4]))\n",
    "print(len(young))"
   ]
  },
  {
   "cell_type": "code",
   "execution_count": 110,
   "metadata": {},
   "outputs": [
    {
     "name": "stdout",
     "output_type": "stream",
     "text": [
      "74\n",
      "452\n",
      "77\n",
      "10\n",
      "613\n"
     ]
    }
   ],
   "source": [
    "# ### 하나라도 null이 있는 column없애기\n",
    "young_cp = young.copy()\n",
    "for feature in young_cp.columns:\n",
    "    young_cp = young_cp[~young_cp[feature].isnull()]\n",
    "### 갯수 확인\n",
    "print(len(young_cp.loc[young_cp[\"bmi_class\"]==1]))\n",
    "print(len(young_cp.loc[young_cp[\"bmi_class\"]==2]))\n",
    "print(len(young_cp.loc[young_cp[\"bmi_class\"]==3]))\n",
    "print(len(young_cp.loc[young_cp[\"bmi_class\"]==4]))\n",
    "print(len(young_cp))"
   ]
  },
  {
   "cell_type": "code",
   "execution_count": 111,
   "metadata": {},
   "outputs": [
    {
     "name": "stdout",
     "output_type": "stream",
     "text": [
      "962\n",
      "959\n",
      "956\n",
      "953\n",
      "0\n",
      "593\n",
      "593\n"
     ]
    }
   ],
   "source": [
    "###Test_set 뽑기 \n",
    "young_train = young.copy()\n",
    "test_class_1 = young_cp.loc[young_cp[\"bmi_class\"]==1].sample(n=3); young_train = young_train.drop(test_class_1.index)\n",
    "print(len(young_train));\n",
    "test_class_2 = young_cp.loc[young_cp[\"bmi_class\"]==2].sample(n=3); young_train = young_train.drop(test_class_2.index)\n",
    "print(len(young_train));\n",
    "test_class_3 = young_cp.loc[young_cp[\"bmi_class\"]==3].sample(n=3);  young_train = young_train.drop(test_class_3.index)\n",
    "print(len(young_train));\n",
    "test_class_4 = young_cp.loc[young_cp[\"bmi_class\"]==4].sample(n=3);  young_train = young_train.drop(test_class_4.index)\n",
    "print(len(young_train));\n",
    "####test_set 쌓기\n",
    "test_list = [test_class_1, test_class_2, test_class_3, test_class_4]\n",
    "test = pd.concat(test_list)\n",
    "### test 가 제대로 생성되었는 지 확인\n",
    "print(test.isnull().sum().sum())\n",
    "print(young_train.isnull().sum().sum())\n",
    "print(young.isnull().sum().sum())"
   ]
  },
  {
   "cell_type": "code",
   "execution_count": 112,
   "metadata": {},
   "outputs": [
    {
     "name": "stdout",
     "output_type": "stream",
     "text": [
      "12\n"
     ]
    }
   ],
   "source": [
    "###bmi_class binary version\n",
    "young_binary = young.copy()\n",
    "young_binary.loc[(young_binary[\"bmi_class\"]==2),\"bmi_class\"]=1\n",
    "young_binary.loc[(young_binary[\"bmi_class\"]==3),\"bmi_class\"]=1\n",
    "young_binary.loc[(young_binary[\"bmi_class\"]==4),\"bmi_class\"]=2\n",
    "print(len(young_binary.loc[young_binary['bmi_class']==2]))\n",
    "# for feature in ['Gender', 'Age', 'Shopping', 'PC', 'Life struggles', 'Romantic']:\n",
    "#     youngbmit = youngbmit[~youngbmit[feature].isnull()]\n",
    "young_binary.to_csv(\"young_bianry.csv\")"
   ]
  },
  {
   "cell_type": "code",
   "execution_count": 89,
   "metadata": {
    "collapsed": true
   },
   "outputs": [],
   "source": [
    "###Train data 생성\n",
    "train = young_train.copy()\n",
    "print(len(young_train))\n",
    "print(len(young))\n",
    "# train = train[['Gender', 'Age', 'Shopping', 'PC', 'Life struggles', 'Romantic', 'bmi_class']]\n",
    "# test = test[['Gender', 'Age', 'Shopping', 'PC', 'Life struggles', 'Romantic', 'bmi_class']]\n",
    "train.to_csv(\"young_train_25_binary_pure.csv\")\n",
    "test.to_csv(\"young_test_balanced_25_binary.csv\")"
   ]
  }
 ],
 "metadata": {
  "kernelspec": {
   "display_name": "Python 3",
   "language": "python",
   "name": "python3"
  },
  "language_info": {
   "codemirror_mode": {
    "name": "ipython",
    "version": 3
   },
   "file_extension": ".py",
   "mimetype": "text/x-python",
   "name": "python",
   "nbconvert_exporter": "python",
   "pygments_lexer": "ipython3",
   "version": "3.6.1"
  }
 },
 "nbformat": 4,
 "nbformat_minor": 2
}
