{
 "cells": [
  {
   "cell_type": "code",
   "execution_count": 1,
   "metadata": {
    "collapsed": true
   },
   "outputs": [],
   "source": [
    "%matplotlib inline\n",
    "import pandas as pd\n",
    "import matplotlib.pyplot as plt\n",
    "import numpy as np\n",
    "import seaborn as sns\n",
    "import scipy.stats as stats\n",
    "from sklearn import metrics\n",
    "from sklearn.metrics import roc_curve\n",
    "from sklearn.metrics import roc_auc_score\n",
    "from sklearn.ensemble import RandomForestClassifier\n",
    "from imblearn.ensemble import BalancedBaggingClassifier\n",
    "from sklearn import tree\n",
    "from sklearn import svm\n",
    "from sklearn.neural_network import MLPClassifier\n",
    "from sklearn.model_selection import cross_val_score"
   ]
  },
  {
   "cell_type": "code",
   "execution_count": 2,
   "metadata": {
    "collapsed": true
   },
   "outputs": [],
   "source": [
    "#resp 읽기\n",
    "food_full = pd.read_csv('../food_data/food_binary.csv')"
   ]
  },
  {
   "cell_type": "code",
   "execution_count": 3,
   "metadata": {
    "collapsed": true
   },
   "outputs": [],
   "source": [
    "food_full_cp = food_full.copy()"
   ]
  },
  {
   "cell_type": "code",
   "execution_count": 4,
   "metadata": {},
   "outputs": [
    {
     "data": {
      "text/plain": [
       "Index(['erincome', 'ertpreat', 'ertseat', 'eudietsoda', 'eudrink', 'eueat',\n",
       "       'euexercise', 'euexfreq', 'eufastfd', 'eufastfdfrq', 'euffyday',\n",
       "       'eufdsit', 'eusnap', 'eugenhth', 'eugroshp', 'euinclvl', 'eumeat',\n",
       "       'eumilk', 'euprpmel', 'eusoda', 'eustores', 'eustreason', 'eutherm'],\n",
       "      dtype='object')"
      ]
     },
     "execution_count": 4,
     "metadata": {},
     "output_type": "execute_result"
    }
   ],
   "source": [
    "feature_list = food_full.columns\n",
    "feature_list = feature_list.drop(food_full.columns[0:3])\n",
    "feature_list = feature_list.drop(['bmi_class','euwgt','euhgt'])\n",
    "feature_list"
   ]
  },
  {
   "cell_type": "code",
   "execution_count": 5,
   "metadata": {},
   "outputs": [
    {
     "name": "stdout",
     "output_type": "stream",
     "text": [
      "717\n"
     ]
    },
    {
     "data": {
      "text/html": [
       "<div>\n",
       "<style>\n",
       "    .dataframe thead tr:only-child th {\n",
       "        text-align: right;\n",
       "    }\n",
       "\n",
       "    .dataframe thead th {\n",
       "        text-align: left;\n",
       "    }\n",
       "\n",
       "    .dataframe tbody tr th {\n",
       "        vertical-align: top;\n",
       "    }\n",
       "</style>\n",
       "<table border=\"1\" class=\"dataframe\">\n",
       "  <thead>\n",
       "    <tr style=\"text-align: right;\">\n",
       "      <th></th>\n",
       "      <th>Unnamed: 0</th>\n",
       "      <th>tucaseid</th>\n",
       "      <th>erbmi</th>\n",
       "      <th>erincome</th>\n",
       "      <th>ertpreat</th>\n",
       "      <th>ertseat</th>\n",
       "      <th>eudietsoda</th>\n",
       "      <th>eudrink</th>\n",
       "      <th>eueat</th>\n",
       "      <th>euexercise</th>\n",
       "      <th>...</th>\n",
       "      <th>euinclvl</th>\n",
       "      <th>eumeat</th>\n",
       "      <th>eumilk</th>\n",
       "      <th>euprpmel</th>\n",
       "      <th>eusoda</th>\n",
       "      <th>eustores</th>\n",
       "      <th>eustreason</th>\n",
       "      <th>eutherm</th>\n",
       "      <th>euwgt</th>\n",
       "      <th>bmi_class</th>\n",
       "    </tr>\n",
       "  </thead>\n",
       "  <tbody>\n",
       "    <tr>\n",
       "      <th>49</th>\n",
       "      <td>51</td>\n",
       "      <td>20140101141488</td>\n",
       "      <td>21.799999</td>\n",
       "      <td>1.0</td>\n",
       "      <td>40.0</td>\n",
       "      <td>20.0</td>\n",
       "      <td>1.0</td>\n",
       "      <td>1.0</td>\n",
       "      <td>1.0</td>\n",
       "      <td>1.0</td>\n",
       "      <td>...</td>\n",
       "      <td>5</td>\n",
       "      <td>1.0</td>\n",
       "      <td>2.0</td>\n",
       "      <td>1.0</td>\n",
       "      <td>1.0</td>\n",
       "      <td>1.0</td>\n",
       "      <td>3.0</td>\n",
       "      <td>1.0</td>\n",
       "      <td>127</td>\n",
       "      <td>1</td>\n",
       "    </tr>\n",
       "    <tr>\n",
       "      <th>81</th>\n",
       "      <td>87</td>\n",
       "      <td>20140101142205</td>\n",
       "      <td>32.200001</td>\n",
       "      <td>1.0</td>\n",
       "      <td>30.0</td>\n",
       "      <td>30.0</td>\n",
       "      <td>1.0</td>\n",
       "      <td>1.0</td>\n",
       "      <td>1.0</td>\n",
       "      <td>1.0</td>\n",
       "      <td>...</td>\n",
       "      <td>5</td>\n",
       "      <td>1.0</td>\n",
       "      <td>2.0</td>\n",
       "      <td>1.0</td>\n",
       "      <td>1.0</td>\n",
       "      <td>1.0</td>\n",
       "      <td>1.0</td>\n",
       "      <td>2.0</td>\n",
       "      <td>165</td>\n",
       "      <td>2</td>\n",
       "    </tr>\n",
       "    <tr>\n",
       "      <th>95</th>\n",
       "      <td>101</td>\n",
       "      <td>20140101142378</td>\n",
       "      <td>29.000000</td>\n",
       "      <td>3.0</td>\n",
       "      <td>15.0</td>\n",
       "      <td>2.0</td>\n",
       "      <td>2.0</td>\n",
       "      <td>1.0</td>\n",
       "      <td>1.0</td>\n",
       "      <td>1.0</td>\n",
       "      <td>...</td>\n",
       "      <td>5</td>\n",
       "      <td>1.0</td>\n",
       "      <td>2.0</td>\n",
       "      <td>1.0</td>\n",
       "      <td>1.0</td>\n",
       "      <td>1.0</td>\n",
       "      <td>6.0</td>\n",
       "      <td>1.0</td>\n",
       "      <td>185</td>\n",
       "      <td>1</td>\n",
       "    </tr>\n",
       "    <tr>\n",
       "      <th>129</th>\n",
       "      <td>136</td>\n",
       "      <td>20140111130922</td>\n",
       "      <td>27.400000</td>\n",
       "      <td>2.0</td>\n",
       "      <td>240.0</td>\n",
       "      <td>405.0</td>\n",
       "      <td>1.0</td>\n",
       "      <td>1.0</td>\n",
       "      <td>1.0</td>\n",
       "      <td>1.0</td>\n",
       "      <td>...</td>\n",
       "      <td>5</td>\n",
       "      <td>1.0</td>\n",
       "      <td>2.0</td>\n",
       "      <td>1.0</td>\n",
       "      <td>1.0</td>\n",
       "      <td>2.0</td>\n",
       "      <td>1.0</td>\n",
       "      <td>2.0</td>\n",
       "      <td>175</td>\n",
       "      <td>1</td>\n",
       "    </tr>\n",
       "    <tr>\n",
       "      <th>136</th>\n",
       "      <td>143</td>\n",
       "      <td>20140111130997</td>\n",
       "      <td>26.400000</td>\n",
       "      <td>2.0</td>\n",
       "      <td>70.0</td>\n",
       "      <td>110.0</td>\n",
       "      <td>2.0</td>\n",
       "      <td>1.0</td>\n",
       "      <td>1.0</td>\n",
       "      <td>1.0</td>\n",
       "      <td>...</td>\n",
       "      <td>5</td>\n",
       "      <td>1.0</td>\n",
       "      <td>2.0</td>\n",
       "      <td>1.0</td>\n",
       "      <td>1.0</td>\n",
       "      <td>1.0</td>\n",
       "      <td>2.0</td>\n",
       "      <td>2.0</td>\n",
       "      <td>135</td>\n",
       "      <td>1</td>\n",
       "    </tr>\n",
       "  </tbody>\n",
       "</table>\n",
       "<p>5 rows × 29 columns</p>\n",
       "</div>"
      ],
      "text/plain": [
       "     Unnamed: 0        tucaseid      erbmi  erincome  ertpreat  ertseat  \\\n",
       "49           51  20140101141488  21.799999       1.0      40.0     20.0   \n",
       "81           87  20140101142205  32.200001       1.0      30.0     30.0   \n",
       "95          101  20140101142378  29.000000       3.0      15.0      2.0   \n",
       "129         136  20140111130922  27.400000       2.0     240.0    405.0   \n",
       "136         143  20140111130997  26.400000       2.0      70.0    110.0   \n",
       "\n",
       "     eudietsoda  eudrink  eueat  euexercise    ...      euinclvl  eumeat  \\\n",
       "49          1.0      1.0    1.0         1.0    ...             5     1.0   \n",
       "81          1.0      1.0    1.0         1.0    ...             5     1.0   \n",
       "95          2.0      1.0    1.0         1.0    ...             5     1.0   \n",
       "129         1.0      1.0    1.0         1.0    ...             5     1.0   \n",
       "136         2.0      1.0    1.0         1.0    ...             5     1.0   \n",
       "\n",
       "     eumilk  euprpmel  eusoda  eustores  eustreason  eutherm  euwgt  bmi_class  \n",
       "49      2.0       1.0     1.0       1.0         3.0      1.0    127          1  \n",
       "81      2.0       1.0     1.0       1.0         1.0      2.0    165          2  \n",
       "95      2.0       1.0     1.0       1.0         6.0      1.0    185          1  \n",
       "129     2.0       1.0     1.0       2.0         1.0      2.0    175          1  \n",
       "136     2.0       1.0     1.0       1.0         2.0      2.0    135          1  \n",
       "\n",
       "[5 rows x 29 columns]"
      ]
     },
     "execution_count": 5,
     "metadata": {},
     "output_type": "execute_result"
    }
   ],
   "source": [
    "for feature in feature_list :\n",
    "    food_full_cp = food_full_cp[~food_full_cp[feature].isnull()]\n",
    "print(len(food_full_cp))\n",
    "food_full_cp.head()"
   ]
  },
  {
   "cell_type": "code",
   "execution_count": 6,
   "metadata": {
    "collapsed": true
   },
   "outputs": [],
   "source": [
    "full_X = food_full_cp[feature_list].values\n",
    "full_y = food_full_cp[\"bmi_class\"]"
   ]
  },
  {
   "cell_type": "markdown",
   "metadata": {},
   "source": [
    "# Anova Test"
   ]
  },
  {
   "cell_type": "code",
   "execution_count": 7,
   "metadata": {},
   "outputs": [
    {
     "name": "stdout",
     "output_type": "stream",
     "text": [
      "eugenhth \n",
      " F-value = 0.08470070184818826 \n",
      " p-value = 0.0\n",
      "euexercise \n",
      " F-value = 0.08470070184818826 \n",
      " p-value = 4.063829987105223e-64\n",
      "erincome \n",
      " F-value = 0.08470070184818826 \n",
      " p-value = 2.845214654098719e-37\n",
      "eusnap \n",
      " F-value = 0.08470070184818826 \n",
      " p-value = 2.584581909141339e-33\n",
      "eusoda \n",
      " F-value = 0.08470070184818826 \n",
      " p-value = 7.398615557641728e-29\n",
      "ertpreat \n",
      " F-value = 0.08470070184818826 \n",
      " p-value = 3.7740963996773906e-17\n",
      "euexfreq \n",
      " F-value = 0.08470070184818826 \n",
      " p-value = 1.478060791529573e-16\n",
      "eufdsit \n",
      " F-value = 0.08470070184818826 \n",
      " p-value = 3.806524744918059e-14\n",
      "eufastfd \n",
      " F-value = 0.08470070184818826 \n",
      " p-value = 2.0429543362306338e-13\n",
      "eufastfdfrq \n",
      " F-value = 0.08470070184818826 \n",
      " p-value = 8.316551301562993e-08\n",
      "euffyday \n",
      " F-value = 0.08470070184818826 \n",
      " p-value = 0.0008095394302946757\n",
      "eumeat \n",
      " F-value = 0.08470070184818826 \n",
      " p-value = 0.0014552165280730354\n",
      "eudietsoda \n",
      " F-value = 0.08470070184818826 \n",
      " p-value = 0.001775995936639682\n",
      "eustreason \n",
      " F-value = 0.08470070184818826 \n",
      " p-value = 0.009544926797003807\n"
     ]
    }
   ],
   "source": [
    "feat_p = {}\n",
    "for feature in feature_list:\n",
    "    data = pd.DataFrame(data=food_full,columns = food_full.columns)[[feature,'bmi_class']]\n",
    "    data = data[~data[feature].isnull()]\n",
    "    other_value = np.array(data[data['bmi_class']==1][feature].tolist())\n",
    "    obese_value  = np.array(data[data['bmi_class']==2][feature].tolist())\n",
    "    f, p = stats.f_oneway(other_value, obese_value)\n",
    "    feat_p[feature] = p\n",
    "# sort by value\n",
    "from collections import OrderedDict\n",
    "feat_p = OrderedDict(sorted(feat_p.items(), key=lambda x: x[1],reverse=False))\n",
    "for feature, p in feat_p.items():\n",
    "    if(p<=0.05):\n",
    "        print('{feature} \\n F-value = {f} \\n p-value = {p}'.format(feature = feature, f=f,p=p))"
   ]
  },
  {
   "cell_type": "markdown",
   "metadata": {},
   "source": [
    "# Correlation"
   ]
  },
  {
   "cell_type": "code",
   "execution_count": 8,
   "metadata": {
    "scrolled": true
   },
   "outputs": [
    {
     "data": {
      "text/plain": [
       "erbmi          1.000000\n",
       "euwgt          0.860445\n",
       "bmi_class      0.782800\n",
       "eugenhth       0.307512\n",
       "euexercise     0.132688\n",
       "erincome       0.107018\n",
       "eufdsit        0.063868\n",
       "eufastfdfrq    0.044482\n",
       "eueat          0.020012\n",
       "eustores       0.008721\n",
       "eutherm        0.008331\n",
       "Unnamed: 0     0.007428\n",
       "tucaseid       0.006951\n",
       "euinclvl       0.004556\n",
       "ertseat       -0.005307\n",
       "eudrink       -0.005496\n",
       "eumilk        -0.006756\n",
       "euhgt         -0.008231\n",
       "eugroshp      -0.012693\n",
       "euprpmel      -0.013147\n",
       "euffyday      -0.024774\n",
       "eustreason    -0.031172\n",
       "eumeat        -0.034092\n",
       "eufastfd      -0.055099\n",
       "eudietsoda    -0.059500\n",
       "ertpreat      -0.062020\n",
       "euexfreq      -0.083219\n",
       "eusnap        -0.099126\n",
       "eusoda        -0.107261\n",
       "Name: erbmi, dtype: float64"
      ]
     },
     "execution_count": 8,
     "metadata": {},
     "output_type": "execute_result"
    }
   ],
   "source": [
    "# calculate correlation\n",
    "food_full.corr()['erbmi'].sort_values(ascending=False)"
   ]
  },
  {
   "cell_type": "code",
   "execution_count": 9,
   "metadata": {
    "scrolled": false
   },
   "outputs": [
    {
     "data": {
      "text/plain": [
       "eugenhth      0.307512\n",
       "euexercise    0.132688\n",
       "erincome      0.107018\n",
       "eusnap       -0.099126\n",
       "eusoda       -0.107261\n",
       "Name: erbmi, dtype: float64"
      ]
     },
     "execution_count": 9,
     "metadata": {},
     "output_type": "execute_result"
    }
   ],
   "source": [
    "food_full.corr()['erbmi'][abs(food_full.corr()['erbmi'])>=0.09].sort_values(ascending=False).drop(['erbmi','euwgt','bmi_class'])"
   ]
  },
  {
   "cell_type": "markdown",
   "metadata": {},
   "source": [
    "# Random Forest Feature Importances"
   ]
  },
  {
   "cell_type": "code",
   "execution_count": 10,
   "metadata": {},
   "outputs": [
    {
     "name": "stdout",
     "output_type": "stream",
     "text": [
      "train score : 0.72\n"
     ]
    }
   ],
   "source": [
    "food_forest = RandomForestClassifier(min_samples_split =2, max_depth = 5, n_estimators = 15, random_state=0)\n",
    "food_bbc = BalancedBaggingClassifier(base_estimator = food_forest)\n",
    "food_bbc = food_bbc.fit(full_X,full_y)\n",
    "print('train score : %.2f' %food_bbc.score(full_X,full_y))\n",
    "# feature_importances_ for each Random Forest\n",
    "forest_importances = []\n",
    "for estimator in food_bbc.estimators_:\n",
    "    forest_importances.append((estimator.steps[1][1].feature_importances_))\n",
    "forest_importances = np.array(forest_importances)\n",
    "feature_importances = forest_importances.mean(axis=0)\n",
    "# print(cross_val_score(food_bbc,full_X,full_y).mean())"
   ]
  },
  {
   "cell_type": "code",
   "execution_count": 11,
   "metadata": {},
   "outputs": [
    {
     "name": "stdout",
     "output_type": "stream",
     "text": [
      "eugenhth: 0.235756\n",
      "ertpreat: 0.111820\n",
      "ertseat: 0.110644\n",
      "euexfreq: 0.093857\n",
      "eufastfdfrq: 0.077414\n",
      "eustreason: 0.059241\n",
      "erincome: 0.057903\n",
      "eudietsoda: 0.047024\n",
      "euinclvl: 0.043459\n",
      "eustores: 0.034910\n",
      "euffyday: 0.028263\n",
      "eusnap: 0.022883\n",
      "euprpmel: 0.020128\n",
      "eutherm: 0.019503\n",
      "eugroshp: 0.019059\n",
      "eufdsit: 0.015916\n",
      "eumilk: 0.002221\n",
      "eudrink: 0.000000\n",
      "eueat: 0.000000\n",
      "euexercise: 0.000000\n",
      "eufastfd: 0.000000\n",
      "eumeat: 0.000000\n",
      "eusoda: 0.000000\n"
     ]
    }
   ],
   "source": [
    "dic_importances = {}\n",
    "i = 0\n",
    "for feature in feature_list:\n",
    "    dic_importances[feature] = feature_importances[i]\n",
    "    i = i+1\n",
    "# sort by value\n",
    "from collections import OrderedDict\n",
    "dic_importances = OrderedDict(sorted(dic_importances.items(), key=lambda x: x[1],reverse=True))\n",
    "for k, v in dic_importances.items():\n",
    "    print (\"%s: %f\" % (k, v))"
   ]
  },
  {
   "cell_type": "markdown",
   "metadata": {},
   "source": [
    "# Estimator Performance Test and Plot"
   ]
  },
  {
   "cell_type": "code",
   "execution_count": 12,
   "metadata": {
    "collapsed": true
   },
   "outputs": [],
   "source": [
    "#resp 읽기\n",
    "food_train = pd.read_csv('../food_data/food_train_1415_pure_selected.csv')\n",
    "food_test = pd.read_csv('../food_data/food_test_balanced_pure_selected.csv')"
   ]
  },
  {
   "cell_type": "code",
   "execution_count": 13,
   "metadata": {
    "collapsed": true
   },
   "outputs": [],
   "source": [
    "food_train_cp = food_train.copy()\n",
    "food_test_cp = food_test.copy()"
   ]
  },
  {
   "cell_type": "code",
   "execution_count": 14,
   "metadata": {
    "collapsed": true
   },
   "outputs": [],
   "source": [
    "feature_list = ['eugenhth','euexercise','erincome','eusnap','eusoda']"
   ]
  },
  {
   "cell_type": "code",
   "execution_count": 15,
   "metadata": {
    "collapsed": true
   },
   "outputs": [],
   "source": [
    "train_X= food_train_cp[feature_list].values\n",
    "train_y = food_train_cp[\"bmi_class\"]\n",
    "test_X = food_test_cp[feature_list].values\n",
    "test_y = food_test_cp[\"bmi_class\"]"
   ]
  },
  {
   "cell_type": "code",
   "execution_count": 16,
   "metadata": {},
   "outputs": [
    {
     "name": "stdout",
     "output_type": "stream",
     "text": [
      "train score : 0.63\n",
      "auroc : 0.71223\n",
      "accuracy : 0.67632\n"
     ]
    }
   ],
   "source": [
    "food_forest = RandomForestClassifier(min_samples_split =2, max_depth = 5, n_estimators =6, random_state=0)\n",
    "food_bbc = BalancedBaggingClassifier(base_estimator = food_forest)\n",
    "food_bbc = food_bbc.fit(train_X,train_y)\n",
    "print('train score : %.2f' %food_bbc.score(train_X,train_y))\n",
    "# feature_importances_ for each Random Forest\n",
    "forest_importances = []\n",
    "for estimator in food_bbc.estimators_:\n",
    "    forest_importances.append((estimator.steps[1][1].feature_importances_))\n",
    "forest_importances = np.array(forest_importances)\n",
    "feature_importances = forest_importances.mean(axis=0)\n",
    "# print(cross_val_score(food_bbc,full_X,full_y).mean())\n",
    "\n",
    "prob_y = food_bbc.predict_proba(test_X)\n",
    "prob_y = [p[1] for p in prob_y]\n",
    "forest_fpr, forest_tpr, thresholds = roc_curve(test_y, prob_y, pos_label=2)\n",
    "forest_auroc_score = metrics.auc(forest_fpr, forest_tpr)\n",
    "print('auroc : %.5f' %forest_auroc_score)\n",
    "\n",
    "\n",
    "pred_y = food_bbc.predict(test_X)\n",
    "# print('총 테스트 개수 : %d, 오류 개수 : %d' %(len(test_y), (test_y != pred_y).sum()))\n",
    "forest_accuracy = food_bbc.score(test_X,test_y)\n",
    "print('accuracy : %.5f' %(forest_accuracy))"
   ]
  },
  {
   "cell_type": "code",
   "execution_count": 17,
   "metadata": {},
   "outputs": [
    {
     "name": "stdout",
     "output_type": "stream",
     "text": [
      "train score : 0.63\n",
      "auroc : 0.68227\n",
      "accuracy : 0.67895\n"
     ]
    }
   ],
   "source": [
    "food_svm = svm.SVC()\n",
    "food_bbc = BalancedBaggingClassifier(base_estimator = food_svm)\n",
    "food_bbc = food_bbc.fit(train_X,train_y)\n",
    "print('train score : %.2f' %food_bbc.score(train_X,train_y))\n",
    "\n",
    "prob_y = food_bbc.predict_proba(test_X)\n",
    "prob_y = [p[1] for p in prob_y]\n",
    "svm_fpr, svm_tpr, thresholds = roc_curve(test_y, prob_y, pos_label=2)\n",
    "svm_auroc_score = metrics.auc(svm_fpr, svm_tpr)\n",
    "print('auroc : %.5f' %svm_auroc_score)\n",
    "\n",
    "pred_y = food_bbc.predict(test_X)\n",
    "# print('총 테스트 개수 : %d, 오류 개수 : %d' %(len(test_y), (test_y != pred_y).sum()))\n",
    "svm_accuracy = food_bbc.score(test_X,test_y)\n",
    "print('accuracy : %.5f' %(svm_accuracy))"
   ]
  },
  {
   "cell_type": "code",
   "execution_count": 18,
   "metadata": {},
   "outputs": [
    {
     "name": "stdout",
     "output_type": "stream",
     "text": [
      "train score : 0.63\n",
      "auroc : 0.70010\n",
      "accuracy : 0.67105\n"
     ]
    }
   ],
   "source": [
    "clf = MLPClassifier(hidden_layer_sizes=(5,2), random_state=1)\n",
    "\n",
    "food_bbc = BalancedBaggingClassifier(base_estimator = clf)\n",
    "food_bbc = food_bbc.fit(train_X,train_y)\n",
    "print('train score : %.2f' %food_bbc.score(train_X,train_y))\n",
    "\n",
    "prob_y = food_bbc.predict_proba(test_X)\n",
    "prob_y = [p[1] for p in prob_y]\n",
    "MLP_fpr, MLP_tpr, thresholds = roc_curve(test_y, prob_y, pos_label=2)\n",
    "MLP_auroc_score = metrics.auc(MLP_fpr, MLP_tpr)\n",
    "print('auroc : %.5f' %MLP_auroc_score)\n",
    "\n",
    "pred_y = food_bbc.predict(test_X)\n",
    "# print('총 테스트 개수 : %d, 오류 개수 : %d' %(len(test_y), (test_y != pred_y).sum()))\n",
    "MLP_accuracy = food_bbc.score(test_X,test_y)\n",
    "print('accuracy : %.5f' %(MLP_accuracy))"
   ]
  },
  {
   "cell_type": "code",
   "execution_count": 19,
   "metadata": {},
   "outputs": [
    {
     "data": {
      "text/plain": [
       "<matplotlib.text.Text at 0x10b1788d0>"
      ]
     },
     "execution_count": 19,
     "metadata": {},
     "output_type": "execute_result"
    },
    {
     "data": {
      "image/png": "[encoded data removed]",
      "text/plain": [
       "<matplotlib.figure.Figure at 0x10aea96d8>"
      ]
     },
     "metadata": {},
     "output_type": "display_data"
    }
   ],
   "source": [
    "accuray_list = pd.DataFrame([forest_accuracy,svm_accuracy,MLP_accuracy])\n",
    "accuray_list.reset_index(inplace=True)\n",
    "accuray_list\n",
    "accuray_list.rename(columns={'index' : 'Estimator', 0 : 'accuray'}, inplace = True)\n",
    "accuray_list['Estimator'].replace(0, 'RandomForest', inplace = True)\n",
    "accuray_list['Estimator'].replace(1, 'SVM', inplace = True)\n",
    "accuray_list['Estimator'].replace(2, 'MLP', inplace = True)\n",
    "\n",
    "fig, axes = plt.subplots(nrows = 1, ncols = 2,figsize=(12,6))\n",
    "ax1, ax2= axes.ravel()\n",
    "sns.barplot(x=\"Estimator\", y=\"accuray\", data=accuray_list, ax=ax1).set_title(\"BMI for low-income people\", fontsize=13)\n",
    "sns.pointplot(x=\"Estimator\", y=\"accuray\", data=accuray_list,ax=ax2).set_title(\"BMI for low-income people\", fontsize=13)\n",
    "ax1.set_title(\"Accuray bar plot\", fontsize=13)\n",
    "ax2.set_title(\"Accuray point plot\", fontsize=13)"
   ]
  },
  {
   "cell_type": "code",
   "execution_count": 20,
   "metadata": {},
   "outputs": [
    {
     "data": {
      "image/png": "[encoded data removed]",
      "text/plain": [
       "<matplotlib.figure.Figure at 0x10ae7ee48>"
      ]
     },
     "metadata": {},
     "output_type": "display_data"
    }
   ],
   "source": [
    "plt.figure()\n",
    "lw = 2\n",
    "plt.plot(forest_fpr, forest_tpr, color='darkorange',\n",
    "         lw=lw, label='RF ROC curve (area = %0.2f)' % forest_auroc_score)\n",
    "plt.plot(svm_fpr, svm_tpr, color='green',\n",
    "         lw=lw, label='SVM ROC curve (area = %0.2f)' % svm_auroc_score)\n",
    "plt.plot(MLP_fpr, MLP_tpr, color='red',\n",
    "         lw=lw, label='MLP ROC curve (area = %0.2f)' % MLP_auroc_score)\n",
    "plt.plot([0, 1], [0, 1], color='navy', lw=lw, linestyle='--')\n",
    "plt.xlim([0.0, 1.0])\n",
    "plt.ylim([0.0, 1.05])\n",
    "plt.xlabel('False Positive Rate')\n",
    "plt.ylabel('True Positive Rate')\n",
    "plt.title('Receiver operating characteristic')\n",
    "plt.legend(loc=\"lower right\")\n",
    "plt.show()"
   ]
  },
  {
   "cell_type": "markdown",
   "metadata": {},
   "source": [
    "# Compare Income with Obese "
   ]
  },
  {
   "cell_type": "code",
   "execution_count": 21,
   "metadata": {},
   "outputs": [
    {
     "data": {
      "text/plain": [
       "<matplotlib.text.Text at 0x10c3919e8>"
      ]
     },
     "execution_count": 21,
     "metadata": {},
     "output_type": "execute_result"
    },
    {
     "data": {
      "image/png": "[encoded data removed]",
      "text/plain": [
       "<matplotlib.figure.Figure at 0x10bd1c470>"
      ]
     },
     "metadata": {},
     "output_type": "display_data"
    }
   ],
   "source": [
    "data_cp = food_full.copy()\n",
    "data_cp['erincome'].replace(4, '4, 5', inplace = True)\n",
    "data_cp['erincome'].replace(5, '4, 5', inplace = True)\n",
    "# sns.barplot(x=\"erincome\", y=\"erbmi\", data=data_cp, order= [1,2,3,'4, 5']).set(ylim=(25, 30))\n",
    "\n",
    "data_cp = food_full.copy()\n",
    "data_cp['erincome'].replace(4, '4, 5', inplace = True)\n",
    "data_cp['erincome'].replace(5, '4, 5', inplace = True)\n",
    "d = data_cp[data_cp['bmi_class']==2].groupby(['erincome'])['bmi_class'].count()/data_cp.groupby(['erincome'])['bmi_class'].count()\n",
    "obratio_income = pd.DataFrame(d)\n",
    "obratio_income.reset_index(inplace=True)\n",
    "obratio_income.rename(columns={'bmi_class' : 'obese_ratio'}, inplace = True)\n",
    "# sns.barplot(x=\"erincome\", y=\"obese_ratio\", data=obratio_income).set(ylim=(None, None))\n",
    "\n",
    "fig, axes = plt.subplots(nrows = 1, ncols = 2,figsize=(12,6))\n",
    "ax1, ax2 = axes.ravel()\n",
    "sns.barplot(x=\"erincome\", y=\"erbmi\", data=data_cp, order= [1,2,3,'4, 5'], ax= ax1).set(ylim=(25, 30))\n",
    "sns.pointplot(x=\"erincome\", y=\"erbmi\", data=data_cp, order= [1,2,3,'4, 5'], ax= ax1).set(ylim=(25, 30))\n",
    "sns.barplot(x=\"erincome\", y=\"obese_ratio\", data=obratio_income, ax= ax2).set(ylim=(None, None))\n",
    "sns.pointplot(x=\"erincome\", y=\"obese_ratio\", data=obratio_income, ax= ax2).set(ylim=(None, None))\n",
    "ax1.set_title(\"BMIvalue\", fontsize=13)\n",
    "ax2.set_title(\"ObeseRatio\", fontsize=13)"
   ]
  },
  {
   "cell_type": "code",
   "execution_count": 22,
   "metadata": {},
   "outputs": [
    {
     "data": {
      "text/plain": [
       "<matplotlib.text.Text at 0x10bdcb6a0>"
      ]
     },
     "execution_count": 22,
     "metadata": {},
     "output_type": "execute_result"
    },
    {
     "data": {
      "image/png": "[encoded data removed]",
      "text/plain": [
       "<matplotlib.figure.Figure at 0x10cf61240>"
      ]
     },
     "metadata": {},
     "output_type": "display_data"
    }
   ],
   "source": [
    "data_cp = food_full.copy()\n",
    "data_cp = data_cp[data_cp['erincome']>=3]\n",
    "data_cp['eusnap'].replace(1, 'Yes', inplace = True)\n",
    "data_cp['eusnap'].replace(2, 'No', inplace = True)\n",
    "ax = plt.axes()\n",
    "sns.barplot(x=\"eusnap\", y=\"erbmi\", data=data_cp, ax=ax)\n",
    "ax.set(ylim=(25, None))\n",
    "ax.set_title(\"BMIvalue\", fontsize=13)"
   ]
  },
  {
   "cell_type": "code",
   "execution_count": 23,
   "metadata": {},
   "outputs": [
    {
     "data": {
      "text/plain": [
       "<matplotlib.text.Text at 0x10c31ca20>"
      ]
     },
     "execution_count": 23,
     "metadata": {},
     "output_type": "execute_result"
    },
    {
     "data": {
      "image/png": "[encoded data removed]",
      "text/plain": [
       "<matplotlib.figure.Figure at 0x10bd35780>"
      ]
     },
     "metadata": {},
     "output_type": "display_data"
    }
   ],
   "source": [
    "# (fastfood yes)/ all fast food\n",
    "data_cp = food_full.copy()\n",
    "data_cp = data_cp[data_cp['erincome']>=3]\n",
    "data_cp['eusnap'].replace(1, 'Yes', inplace = True)\n",
    "data_cp['eusnap'].replace(2, 'No', inplace = True)\n",
    "d = data_cp[data_cp['eufastfd']==1].groupby(['eusnap'])['eufastfd'].count()/data_cp.groupby(['eusnap'])['eufastfd'].count()\n",
    "fstfdratio_snap = pd.DataFrame(d)\n",
    "fstfdratio_snap.reset_index(inplace=True)\n",
    "fstfdratio_snap.rename(columns={'eufastfd' : 'fastfood_ratio'}, inplace = True)\n",
    "ax = plt.axes()\n",
    "sns.barplot(x=\"eusnap\", y=\"fastfood_ratio\", data=fstfdratio_snap).set_title(\"FastFoodRatio\", fontsize=13)\n",
    "ax.set_title(\"FastFoodRatio\", fontsize=13)"
   ]
  },
  {
   "cell_type": "code",
   "execution_count": 24,
   "metadata": {},
   "outputs": [
    {
     "data": {
      "text/plain": [
       "<matplotlib.text.Text at 0x1129d85f8>"
      ]
     },
     "execution_count": 24,
     "metadata": {},
     "output_type": "execute_result"
    },
    {
     "data": {
      "image/png": "[encoded data removed]",
      "text/plain": [
       "<matplotlib.figure.Figure at 0x1127dab00>"
      ]
     },
     "metadata": {},
     "output_type": "display_data"
    }
   ],
   "source": [
    "# eudrink\n",
    "data_cp = food_full.copy()\n",
    "data_cp = data_cp[data_cp['erincome']>=3]\n",
    "data_cp['eusnap'].replace(1, 'Yes', inplace = True)\n",
    "data_cp['eusnap'].replace(2, 'No', inplace = True)\n",
    "d = data_cp[data_cp['eudrink']==1].groupby(['eusnap'])['eudrink'].count()/data_cp.groupby(['eusnap'])['eudrink'].count()\n",
    "drnkratio_snap = pd.DataFrame(d)\n",
    "drnkratio_snap.reset_index(inplace=True)\n",
    "drnkratio_snap.rename(columns={'eudrink' : 'drink_ratio'}, inplace = True)\n",
    "\n",
    "# eumeat\n",
    "data_cp = food_full.copy()\n",
    "data_cp = data_cp[data_cp['erincome']>=3]\n",
    "data_cp['eusnap'].replace(1, 'Yes', inplace = True)\n",
    "data_cp['eusnap'].replace(2, 'No', inplace = True)\n",
    "d = data_cp[data_cp['eumeat']==1].groupby(['eusnap'])['eumeat'].count()/data_cp.groupby(['eusnap'])['eumeat'].count()\n",
    "meatratio_snap = pd.DataFrame(d)\n",
    "meatratio_snap.reset_index(inplace=True)\n",
    "meatratio_snap.rename(columns={'eumeat' : 'meat_ratio'}, inplace = True)\n",
    "\n",
    "# eueat\n",
    "data_cp = food_full.copy()\n",
    "data_cp = data_cp[data_cp['erincome']>=3]\n",
    "data_cp['eusnap'].replace(1, 'Yes', inplace = True)\n",
    "data_cp['eusnap'].replace(2, 'No', inplace = True)\n",
    "d = data_cp[data_cp['eueat']==1].groupby(['eusnap'])['eueat'].count()/data_cp.groupby(['eusnap'])['eueat'].count()\n",
    "eatratio_snap = pd.DataFrame(d)\n",
    "eatratio_snap.reset_index(inplace=True)\n",
    "eatratio_snap.rename(columns={'eueat' : 'eat_ratio'}, inplace = True)\n",
    "\n",
    "fig, axes = plt.subplots(nrows = 2, ncols = 2,figsize=(12,10))\n",
    "ax1, ax2, ax3, ax4 = axes.ravel()\n",
    "sns.barplot(x=\"eusnap\", y=\"drink_ratio\", data=drnkratio_snap, ax= ax1).set(ylim=(0.3, None))\n",
    "sns.barplot(x=\"eusnap\", y=\"meat_ratio\", data=meatratio_snap, ax= ax2).set(ylim=(0.5, None))\n",
    "sns.barplot(x=\"eusnap\", y=\"eat_ratio\", data=eatratio_snap, ax= ax3).set(ylim=(0.4, None))\n",
    "\n",
    "ax1.set_title(\"DrinkRatio\", fontsize=13)\n",
    "ax2.set_title(\"MeatRatio\", fontsize=13)\n",
    "ax3.set_title(\"EatRatio\", fontsize=13)"
   ]
  },
  {
   "cell_type": "code",
   "execution_count": 25,
   "metadata": {},
   "outputs": [
    {
     "data": {
      "text/plain": [
       "<matplotlib.text.Text at 0x112fb5f98>"
      ]
     },
     "execution_count": 25,
     "metadata": {},
     "output_type": "execute_result"
    },
    {
     "data": {
      "image/png": "[encoded data removed]",
      "text/plain": [
       "<matplotlib.figure.Figure at 0x10cfa2780>"
      ]
     },
     "metadata": {},
     "output_type": "display_data"
    }
   ],
   "source": [
    "# ertpreat\n",
    "data_cp = food_full.copy()\n",
    "data_cp = data_cp[data_cp['erincome']>=3]\n",
    "data_cp['eusnap'].replace(1, 'Yes', inplace = True)\n",
    "data_cp['eusnap'].replace(2, 'No', inplace = True)\n",
    "\n",
    "fig, axes = plt.subplots(nrows = 1, ncols = 2,figsize=(12,6))\n",
    "ax1, ax2= axes.ravel()\n",
    "sns.barplot(x=\"eusnap\", y=\"ertpreat\", data=data_cp, ax=ax1)\n",
    "sns.barplot(x=\"eusnap\", y=\"ertseat\", data=data_cp, ax=ax2)\n",
    "ax1.set_title(\"Primary Eating\", fontsize=13)\n",
    "ax2.set_title(\"Secondary Eating\", fontsize=13)"
   ]
  },
  {
   "cell_type": "code",
   "execution_count": 26,
   "metadata": {},
   "outputs": [
    {
     "data": {
      "text/plain": [
       "<matplotlib.text.Text at 0x113180f28>"
      ]
     },
     "execution_count": 26,
     "metadata": {},
     "output_type": "execute_result"
    },
    {
     "data": {
      "image/png": "[encoded data removed]",
      "text/plain": [
       "<matplotlib.figure.Figure at 0x11306c550>"
      ]
     },
     "metadata": {},
     "output_type": "display_data"
    }
   ],
   "source": [
    "# low income\n",
    "data_cp = food_full.copy()\n",
    "data_cp = data_cp[data_cp['erincome']>=3]\n",
    "no_soda = data_cp[(data_cp['eudrink']==1) & (data_cp['eusoda']==2)]['erbmi'].mean()\n",
    "diet_soda = data_cp[(data_cp['eudrink']==1) & (data_cp['eusoda']==1) & (data_cp['eudietsoda']==1)]['erbmi'].mean()\n",
    "regular_soda = data_cp[(data_cp['eudrink']==1) & (data_cp['eusoda']==1) & (data_cp['eudietsoda']==2)]['erbmi'].mean()\n",
    "both_soda = data_cp[(data_cp['eudrink']==1) & (data_cp['eusoda']==1) & (data_cp['eudietsoda']==3)]['erbmi'].mean()\n",
    "\n",
    "low_income_drk_bmi = pd.DataFrame([no_soda,regular_soda,diet_soda,both_soda])\n",
    "low_income_drk_bmi.reset_index(inplace=True)\n",
    "low_income_drk_bmi.rename(columns={'index' : 'drink_type', 0 : 'bmi'}, inplace = True)\n",
    "low_income_drk_bmi['drink_type'].replace(0, 'no_soda', inplace = True)\n",
    "low_income_drk_bmi['drink_type'].replace(1, 'regular_soda', inplace = True)\n",
    "low_income_drk_bmi['drink_type'].replace(2, 'diet_soda', inplace = True)\n",
    "low_income_drk_bmi['drink_type'].replace(3, 'both_soda', inplace = True)\n",
    "\n",
    "# everyone\n",
    "data_cp = food_full.copy()\n",
    "no_soda = data_cp[(data_cp['eudrink']==1) & (data_cp['eusoda']==2)]['erbmi'].mean()\n",
    "diet_soda = data_cp[(data_cp['eudrink']==1) & (data_cp['eusoda']==1) & (data_cp['eudietsoda']==1)]['erbmi'].mean()\n",
    "regular_soda = data_cp[(data_cp['eudrink']==1) & (data_cp['eusoda']==1) & (data_cp['eudietsoda']==2)]['erbmi'].mean()\n",
    "both_soda = data_cp[(data_cp['eudrink']==1) & (data_cp['eusoda']==1) & (data_cp['eudietsoda']==3)]['erbmi'].mean()\n",
    "\n",
    "drk_bmi = pd.DataFrame([no_soda,regular_soda,diet_soda,both_soda])\n",
    "drk_bmi.reset_index(inplace=True)\n",
    "drk_bmi.rename(columns={'index' : 'drink_type', 0 : 'bmi'}, inplace = True)\n",
    "drk_bmi['drink_type'].replace(0, 'no_soda', inplace = True)\n",
    "drk_bmi['drink_type'].replace(1, 'regular_soda', inplace = True)\n",
    "drk_bmi['drink_type'].replace(2, 'diet_soda', inplace = True)\n",
    "drk_bmi['drink_type'].replace(3, 'both_soda', inplace = True)\n",
    "\n",
    "fig, axes = plt.subplots(nrows = 1, ncols = 2,figsize=(12,6))\n",
    "ax1, ax2= axes.ravel()\n",
    "sns.barplot(x=\"drink_type\", y=\"bmi\", data=low_income_drk_bmi, ax=ax1).set(ylim=(27, None))\n",
    "sns.barplot(x=\"drink_type\", y=\"bmi\", data=drk_bmi, ax=ax2).set(ylim=(25, None))\n",
    "ax1.set_title(\"BMI for low-income people\", fontsize=13)\n",
    "ax2.set_title(\"BMI for everyone\", fontsize=13)"
   ]
  },
  {
   "cell_type": "code",
   "execution_count": 27,
   "metadata": {},
   "outputs": [
    {
     "data": {
      "text/plain": [
       "[(27, 30.725865992992656)]"
      ]
     },
     "execution_count": 27,
     "metadata": {},
     "output_type": "execute_result"
    },
    {
     "data": {
      "image/png": "[encoded data removed]",
      "text/plain": [
       "<matplotlib.figure.Figure at 0x10bd1c6a0>"
      ]
     },
     "metadata": {},
     "output_type": "display_data"
    }
   ],
   "source": [
    "# low income\n",
    "data_cp = food_full.copy()\n",
    "data_cp = data_cp[data_cp['erincome']>=3]\n",
    "no_soda = data_cp[(data_cp['eudrink']==1) & (data_cp['eusoda']==2)]['erbmi'].mean()\n",
    "soda = data_cp[(data_cp['eudrink']==1) & (data_cp['eusoda']==1)]['erbmi'].mean()\n",
    "low_income_drk_bmi = pd.DataFrame([no_soda,soda])\n",
    "low_income_drk_bmi.reset_index(inplace=True)\n",
    "low_income_drk_bmi.rename(columns={'index' : 'drink_type', 0 : 'bmi'}, inplace = True)\n",
    "low_income_drk_bmi['drink_type'].replace(0, 'no_soda', inplace = True)\n",
    "low_income_drk_bmi['drink_type'].replace(1, 'soda', inplace = True)\n",
    "sns.barplot(x=\"drink_type\", y=\"bmi\", data=low_income_drk_bmi).set(ylim=(27, None))"
   ]
  },
  {
   "cell_type": "code",
   "execution_count": 28,
   "metadata": {},
   "outputs": [
    {
     "data": {
      "text/plain": [
       "[(1, 1.7288921665027859)]"
      ]
     },
     "execution_count": 28,
     "metadata": {},
     "output_type": "execute_result"
    },
    {
     "data": {
      "image/png": "[encoded data removed]",
      "text/plain": [
       "<matplotlib.figure.Figure at 0x10ccc7c18>"
      ]
     },
     "metadata": {},
     "output_type": "display_data"
    }
   ],
   "source": [
    "data_cp = food_full.copy()\n",
    "data_cp['erincome'].replace(4, '4, 5', inplace = True)\n",
    "data_cp['erincome'].replace(5, '4, 5', inplace = True)\n",
    "sns.barplot(x=\"erincome\", y=\"eusoda\", data=data_cp, order=[1,2,3,'4, 5']).set(ylim=(1, None))\n",
    "sns.pointplot(x=\"erincome\", y=\"eusoda\", data=data_cp, order=[1,2,3,'4, 5']).set(ylim=(1, None))"
   ]
  },
  {
   "cell_type": "code",
   "execution_count": 29,
   "metadata": {},
   "outputs": [
    {
     "data": {
      "text/plain": [
       "[(1, 1.570798555377207)]"
      ]
     },
     "execution_count": 29,
     "metadata": {},
     "output_type": "execute_result"
    },
    {
     "data": {
      "image/png": "[encoded data removed]",
      "text/plain": [
       "<matplotlib.figure.Figure at 0x113232128>"
      ]
     },
     "metadata": {},
     "output_type": "display_data"
    }
   ],
   "source": [
    "data_cp = food_full.copy()\n",
    "data_cp['erincome'].replace(4, '4, 5', inplace = True)\n",
    "data_cp['erincome'].replace(5, '4, 5', inplace = True)\n",
    "sns.barplot(x=\"erincome\", y=\"euexercise\", data=data_cp, order=[1,2,3,'4, 5']).set(ylim=(1, None))\n",
    "sns.pointplot(x=\"erincome\", y=\"euexercise\", data=data_cp, order=[1,2,3,'4, 5']).set(ylim=(1, None))"
   ]
  }
 ],
 "metadata": {
  "kernelspec": {
   "display_name": "Python 3",
   "language": "python",
   "name": "python3"
  },
  "language_info": {
   "codemirror_mode": {
    "name": "ipython",
    "version": 3
   },
   "file_extension": ".py",
   "mimetype": "text/x-python",
   "name": "python",
   "nbconvert_exporter": "python",
   "pygments_lexer": "ipython3",
   "version": "3.6.2"
  }
 },
 "nbformat": 4,
 "nbformat_minor": 2
}
